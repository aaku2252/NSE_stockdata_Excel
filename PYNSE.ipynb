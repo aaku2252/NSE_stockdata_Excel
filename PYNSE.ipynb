{
 "cells": [
  {
   "cell_type": "code",
   "execution_count": 3,
   "metadata": {},
   "outputs": [],
   "source": [
    "from pynse import *\n",
    "import datetime \n",
    "from openpyxl import workbook,load_workbook\n",
    "nse = Nse()\n",
    "\n",
    "stocks = ['ASIANPAINT','AXISBANK','BHARTIARTL','COALINDIA','DLF','HINDALCO','INFY','SBIN','TATACONSUM','TATAMOTORS','TATASTEEL','TCS','TITAN','DEEPAKNTR','RELIANCE','HDFCBANK','VEDL','POLYCAB']"
   ]
  },
  {
   "cell_type": "code",
   "execution_count": 4,
   "metadata": {},
   "outputs": [],
   "source": [
    "def stock_data(stocks,from_date:datetime.date= None):\n",
    "\n",
    "\n",
    "    def populate_excel(symbol,from_date):\n",
    "\n",
    "        wb = load_workbook(f'{symbol}.xlsx')\n",
    "        ws = wb.active\n",
    "        rows = ws.max_row\n",
    "        last_date = from_date\n",
    "\n",
    "        while rows>=1 and ws[f'a{rows}'].value==None and type(ws[f'a{rows}'].value)!=type(datetime.date.today()):\n",
    "            rows-=1\n",
    "\n",
    "        if rows>=2:\n",
    "            last_date = ws[f'a{rows}'].value.date() or from_date\n",
    "\n",
    "        trading_days = nse.get_hist(from_date=last_date,to_date=datetime.date.today()).index\n",
    "        trading_days = list(trading_days.map(lambda x: x.date()))\n",
    "\n",
    "\n",
    "        if rows>=2:\n",
    "            if ws[f'a{rows}'].value.date()==trading_days[-1]:\n",
    "                return\n",
    "            \n",
    "        \n",
    "\n",
    "        def stock_analysis(symbol,from_date:datetime.date = None,to_date =trading_days[-1]):\n",
    "            \n",
    "            if rows>=2:\n",
    "                trading_days.pop(0)\n",
    "            if len(trading_days)>0:\n",
    "                for date in trading_days:\n",
    "                    bhav = nse.bhavcopy(date).loc[symbol].iloc[0]\n",
    "                    bhav_fno_near = nse.bhavcopy_fno(date).loc[symbol].iloc[0]\n",
    "                    bhav_fno_far = nse.bhavcopy_fno(date).loc[symbol].iloc[1]\n",
    "                    hist = nse.get_hist(symbol=symbol,from_date=date,to_date=date)\n",
    "                    vwap = bhav['CLOSE_PRICE']\n",
    "                    if bhav['DATE1'] == trading_days[-1]:\n",
    "                        vwap = nse.get_quote(symbol)['vwap'] \n",
    "\n",
    "                    data = [bhav['DATE1'],bhav['PREV_CLOSE'],bhav['OPEN_PRICE'],bhav['HIGH_PRICE'],bhav['LOW_PRICE'],bhav['CLOSE_PRICE'],vwap,bhav['TTL_TRD_QNTY'],float(bhav['DELIV_QTY']),float(bhav['DELIV_PER']),'',bhav['DATE1'],bhav_fno_near['EXPIRY_DT'].date(),bhav_fno_near['OPEN_INT'],bhav_fno_near['CHG_IN_OI'],'',bhav['DATE1'],bhav_fno_far['EXPIRY_DT'].date(),bhav_fno_far['OPEN_INT'],bhav_fno_far['CHG_IN_OI']]\n",
    "\n",
    "                    ws.append(data)\n",
    "                \n",
    "        stock_analysis(symbol,last_date)\n",
    "        print(symbol)\n",
    "        wb.save(f'{symbol}.xlsx')\n",
    "        wb.close()\n",
    "\n",
    "\n",
    "    for symbol in stocks:\n",
    "        populate_excel(symbol,from_date)\n",
    "\n",
    "\n",
    "stock_data(stocks)"
   ]
  }
 ],
 "metadata": {
  "interpreter": {
   "hash": "2be5faf79681da6f2a61fdfdd5405d65d042280f7fba6178067603e3a2925119"
  },
  "kernelspec": {
   "display_name": "Python 3.10.4 64-bit",
   "language": "python",
   "name": "python3"
  },
  "language_info": {
   "codemirror_mode": {
    "name": "ipython",
    "version": 3
   },
   "file_extension": ".py",
   "mimetype": "text/x-python",
   "name": "python",
   "nbconvert_exporter": "python",
   "pygments_lexer": "ipython3",
   "version": "3.10.4"
  },
  "orig_nbformat": 4
 },
 "nbformat": 4,
 "nbformat_minor": 2
}
